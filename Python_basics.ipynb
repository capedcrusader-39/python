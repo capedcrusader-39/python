{
  "nbformat": 4,
  "nbformat_minor": 0,
  "metadata": {
    "colab": {
      "provenance": [],
      "include_colab_link": true
    },
    "kernelspec": {
      "name": "python3",
      "display_name": "Python 3"
    },
    "language_info": {
      "name": "python"
    }
  },
  "cells": [
    {
      "cell_type": "markdown",
      "metadata": {
        "id": "view-in-github",
        "colab_type": "text"
      },
      "source": [
        "<a href=\"https://colab.research.google.com/github/capedcrusader-39/python/blob/main/Python_basics.ipynb\" target=\"_parent\"><img src=\"https://colab.research.google.com/assets/colab-badge.svg\" alt=\"Open In Colab\"/></a>"
      ]
    },
    {
      "cell_type": "code",
      "source": [
        "print(\"Hello World\")"
      ],
      "metadata": {
        "colab": {
          "base_uri": "https://localhost:8080/"
        },
        "id": "AQAZKBjY4_SG",
        "outputId": "e132c128-debb-4b0e-843f-60041aaa2e61"
      },
      "execution_count": 1,
      "outputs": [
        {
          "output_type": "stream",
          "name": "stdout",
          "text": [
            "Hello World\n"
          ]
        }
      ]
    },
    {
      "cell_type": "code",
      "execution_count": null,
      "metadata": {
        "colab": {
          "base_uri": "https://localhost:8080/"
        },
        "id": "yzxj7rVcsx6x",
        "outputId": "069134a1-cac6-451b-cb2b-ef1c6b7a04e2"
      },
      "outputs": [
        {
          "output_type": "stream",
          "name": "stdout",
          "text": [
            "35\n",
            "['False', 'None', 'True', 'and', 'as', 'assert', 'async', 'await', 'break', 'class', 'continue', 'def', 'del', 'elif', 'else', 'except', 'finally', 'for', 'from', 'global', 'if', 'import', 'in', 'is', 'lambda', 'nonlocal', 'not', 'or', 'pass', 'raise', 'return', 'try', 'while', 'with', 'yield']\n"
          ]
        }
      ],
      "source": [
        "import keyword\n",
        "n=len(keyword.kwlist)\n",
        "print(n)\n",
        "print(keyword.kwlist)"
      ]
    },
    {
      "cell_type": "code",
      "source": [
        "#Snake Case\n",
        "my_variable=10\n",
        "#PascalCase\n",
        "MyVariable=10"
      ],
      "metadata": {
        "id": "1IncP62rwj3w"
      },
      "execution_count": null,
      "outputs": []
    },
    {
      "cell_type": "code",
      "source": [
        "#Number datatypes\n",
        "#Integers\n",
        "year=2024\n",
        "print(year)\n",
        "#the function type returns the datatype of a variable\n",
        "print(\"Type\",type(year))\n",
        "#the function id returns the memory location at which the data is stored\n",
        "print(\"ID\",id(year))"
      ],
      "metadata": {
        "colab": {
          "base_uri": "https://localhost:8080/"
        },
        "id": "je_3vFAJwsXr",
        "outputId": "6b2df24b-010c-4320-ecd8-4c48a9684544"
      },
      "execution_count": null,
      "outputs": [
        {
          "output_type": "stream",
          "name": "stdout",
          "text": [
            "2024\n",
            "Type <class 'int'>\n",
            "ID 135172539580816\n"
          ]
        }
      ]
    },
    {
      "cell_type": "code",
      "source": [
        "#Float\n",
        "PI=3.14\n",
        "print(PI)\n",
        "print(\"Type\",type(PI))"
      ],
      "metadata": {
        "colab": {
          "base_uri": "https://localhost:8080/"
        },
        "id": "6arnlJ41xeSZ",
        "outputId": "2661ac02-c6a7-4b71-c656-14a78fcc77df"
      },
      "execution_count": null,
      "outputs": [
        {
          "output_type": "stream",
          "name": "stdout",
          "text": [
            "3.14\n",
            "Type <class 'float'>\n"
          ]
        }
      ]
    },
    {
      "cell_type": "code",
      "source": [
        "#Complex\n",
        "complex_number=2+3j\n",
        "print(complex_number)\n",
        "print(\"Type\",type(complex_number))"
      ],
      "metadata": {
        "colab": {
          "base_uri": "https://localhost:8080/"
        },
        "id": "P996skISxnzy",
        "outputId": "45d99c21-b668-4ff2-c18c-0744c044c596"
      },
      "execution_count": null,
      "outputs": [
        {
          "output_type": "stream",
          "name": "stdout",
          "text": [
            "(2+3j)\n",
            "Type <class 'complex'>\n"
          ]
        }
      ]
    },
    {
      "cell_type": "code",
      "source": [
        "#Boolean\n",
        "val=True\n",
        "print(\"Type\",type(val))"
      ],
      "metadata": {
        "colab": {
          "base_uri": "https://localhost:8080/"
        },
        "id": "2Y9BJTzFyQaE",
        "outputId": "34ac79f4-4632-40c3-ea13-0a67934a4b62"
      },
      "execution_count": null,
      "outputs": [
        {
          "output_type": "stream",
          "name": "stdout",
          "text": [
            "Type <class 'bool'>\n"
          ]
        }
      ]
    },
    {
      "cell_type": "code",
      "source": [
        "#Strings\n",
        "#declare within double quotes\n",
        "name=\"DSA\"\n",
        "print(\"Type\",type(name))"
      ],
      "metadata": {
        "colab": {
          "base_uri": "https://localhost:8080/"
        },
        "id": "Ww1k-N4Cy3qx",
        "outputId": "0e7d756e-28e4-4038-b9ae-4243b3fb8d37"
      },
      "execution_count": null,
      "outputs": [
        {
          "output_type": "stream",
          "name": "stdout",
          "text": [
            "Type <class 'str'>\n"
          ]
        }
      ]
    },
    {
      "cell_type": "code",
      "source": [
        "#Declare within single quotes\n",
        "num='123'\n",
        "print(\"Type\",type(num))"
      ],
      "metadata": {
        "colab": {
          "base_uri": "https://localhost:8080/"
        },
        "id": "g3UqWVJ2zAyT",
        "outputId": "b15fbb33-4b9f-4089-fd09-ff79e85fc170"
      },
      "execution_count": null,
      "outputs": [
        {
          "output_type": "stream",
          "name": "stdout",
          "text": [
            "Type <class 'str'>\n"
          ]
        }
      ]
    },
    {
      "cell_type": "code",
      "source": [
        "#use escape sequence\n",
        "message='I don\\'t like papaya'\n",
        "print(message)"
      ],
      "metadata": {
        "colab": {
          "base_uri": "https://localhost:8080/"
        },
        "id": "T8lpSiOdzSww",
        "outputId": "c7031311-3633-47ce-a1c0-bfc166aa5f88"
      },
      "execution_count": null,
      "outputs": [
        {
          "output_type": "stream",
          "name": "stdout",
          "text": [
            "I don't like papaya\n"
          ]
        }
      ]
    },
    {
      "cell_type": "code",
      "source": [
        "#newline\n",
        "message=\"Hello\\nWorld\"\n",
        "print(message)"
      ],
      "metadata": {
        "colab": {
          "base_uri": "https://localhost:8080/"
        },
        "id": "2uuzBr1b0SLB",
        "outputId": "e2988341-c0dc-4507-f7ee-3ecb00ba6cd7"
      },
      "execution_count": null,
      "outputs": [
        {
          "output_type": "stream",
          "name": "stdout",
          "text": [
            "Hello\n",
            "World\n"
          ]
        }
      ]
    },
    {
      "cell_type": "code",
      "source": [
        "#tab character\n",
        "message=\"Hello\\tWorld\"\n",
        "print(message)"
      ],
      "metadata": {
        "colab": {
          "base_uri": "https://localhost:8080/"
        },
        "id": "vdo2SQWx0k5G",
        "outputId": "c5abfec2-cde4-4565-c185-90e38c406402"
      },
      "execution_count": null,
      "outputs": [
        {
          "output_type": "stream",
          "name": "stdout",
          "text": [
            "Hello\tWorld\n"
          ]
        }
      ]
    },
    {
      "cell_type": "code",
      "source": [
        "raw=r'I don\\'t want to watch TV all day'\n",
        "print(raw)"
      ],
      "metadata": {
        "colab": {
          "base_uri": "https://localhost:8080/"
        },
        "id": "X6B4BKrfz0ZG",
        "outputId": "f4c561c7-f77a-4450-fb3d-fc2859cebdc6"
      },
      "execution_count": null,
      "outputs": [
        {
          "output_type": "stream",
          "name": "stdout",
          "text": [
            "I don\\'t want to watch TV all day\n"
          ]
        }
      ]
    },
    {
      "cell_type": "code",
      "source": [
        "path=\"C:\\newfolder\\test.txt\"\n",
        "print(path)"
      ],
      "metadata": {
        "colab": {
          "base_uri": "https://localhost:8080/"
        },
        "id": "7O79tQaw0IqT",
        "outputId": "cab4b6a8-6da7-477a-d42a-3193b2e7bc28"
      },
      "execution_count": null,
      "outputs": [
        {
          "output_type": "stream",
          "name": "stdout",
          "text": [
            "C:\n",
            "ewfolder\test.txt\n"
          ]
        }
      ]
    },
    {
      "cell_type": "code",
      "source": [
        "#String manipulation\n",
        "#Concatenation\n",
        "string1=\"python\"\n",
        "string2=\"programming\"\n",
        "print(string1+\" \"+string2)"
      ],
      "metadata": {
        "colab": {
          "base_uri": "https://localhost:8080/"
        },
        "id": "bHlA-oiH1R1H",
        "outputId": "81700360-fbe8-40cf-e2d4-34e2f5a395c1"
      },
      "execution_count": null,
      "outputs": [
        {
          "output_type": "stream",
          "name": "stdout",
          "text": [
            "python programming\n"
          ]
        }
      ]
    },
    {
      "cell_type": "code",
      "source": [
        "#Replication\n",
        "string1=\"Python\"\n",
        "print(string1*5)"
      ],
      "metadata": {
        "colab": {
          "base_uri": "https://localhost:8080/"
        },
        "id": "UiVV_-Ch2N6s",
        "outputId": "992046cf-3b18-4c80-dafb-507388c9756b"
      },
      "execution_count": null,
      "outputs": [
        {
          "output_type": "stream",
          "name": "stdout",
          "text": [
            "PythonPythonPythonPythonPython\n"
          ]
        }
      ]
    },
    {
      "cell_type": "code",
      "source": [
        "name='Science'\n",
        "print(name[4])"
      ],
      "metadata": {
        "colab": {
          "base_uri": "https://localhost:8080/"
        },
        "id": "3xo44ycc2XVW",
        "outputId": "5b3d5af8-87ac-40b5-9297-3f680135a35e"
      },
      "execution_count": null,
      "outputs": [
        {
          "output_type": "stream",
          "name": "stdout",
          "text": [
            "n\n"
          ]
        }
      ]
    },
    {
      "cell_type": "code",
      "source": [
        "print(name[-1])"
      ],
      "metadata": {
        "colab": {
          "base_uri": "https://localhost:8080/"
        },
        "id": "YiMq26hC2-IJ",
        "outputId": "7de8d105-1faf-4e7a-db0e-28c7b4bac824"
      },
      "execution_count": null,
      "outputs": [
        {
          "output_type": "stream",
          "name": "stdout",
          "text": [
            "e\n"
          ]
        }
      ]
    },
    {
      "cell_type": "code",
      "source": [
        "name[1:3]"
      ],
      "metadata": {
        "colab": {
          "base_uri": "https://localhost:8080/",
          "height": 36
        },
        "id": "SViB98MW3SRZ",
        "outputId": "fbe839eb-209f-4f0c-e550-bece31e23edc"
      },
      "execution_count": null,
      "outputs": [
        {
          "output_type": "execute_result",
          "data": {
            "text/plain": [
              "'ci'"
            ],
            "application/vnd.google.colaboratory.intrinsic+json": {
              "type": "string"
            }
          },
          "metadata": {},
          "execution_count": 20
        }
      ]
    },
    {
      "cell_type": "code",
      "source": [
        "name[:3]"
      ],
      "metadata": {
        "colab": {
          "base_uri": "https://localhost:8080/",
          "height": 36
        },
        "id": "ZYCrKobD3gRv",
        "outputId": "451d06d9-3419-4933-f352-1154c5545dc7"
      },
      "execution_count": null,
      "outputs": [
        {
          "output_type": "execute_result",
          "data": {
            "text/plain": [
              "'Sci'"
            ],
            "application/vnd.google.colaboratory.intrinsic+json": {
              "type": "string"
            }
          },
          "metadata": {},
          "execution_count": 21
        }
      ]
    },
    {
      "cell_type": "code",
      "source": [
        "name[1:]"
      ],
      "metadata": {
        "colab": {
          "base_uri": "https://localhost:8080/",
          "height": 36
        },
        "id": "9oDfy2ks3n2_",
        "outputId": "266a55d2-8211-4fcc-9c2d-c598730ed2ad"
      },
      "execution_count": null,
      "outputs": [
        {
          "output_type": "execute_result",
          "data": {
            "text/plain": [
              "'cience'"
            ],
            "application/vnd.google.colaboratory.intrinsic+json": {
              "type": "string"
            }
          },
          "metadata": {},
          "execution_count": 22
        }
      ]
    },
    {
      "cell_type": "code",
      "source": [
        "name[1::2]"
      ],
      "metadata": {
        "colab": {
          "base_uri": "https://localhost:8080/",
          "height": 36
        },
        "id": "7U0DzVtt4X99",
        "outputId": "caf32a3e-91e3-4357-ab50-d22bd3689355"
      },
      "execution_count": null,
      "outputs": [
        {
          "output_type": "execute_result",
          "data": {
            "text/plain": [
              "'cec'"
            ],
            "application/vnd.google.colaboratory.intrinsic+json": {
              "type": "string"
            }
          },
          "metadata": {},
          "execution_count": 23
        }
      ]
    },
    {
      "cell_type": "code",
      "source": [
        "name[3::-1]"
      ],
      "metadata": {
        "colab": {
          "base_uri": "https://localhost:8080/",
          "height": 36
        },
        "id": "CBmuhN1e4oVT",
        "outputId": "a2efb6a3-6a92-4901-9916-27f64ba90329"
      },
      "execution_count": null,
      "outputs": [
        {
          "output_type": "execute_result",
          "data": {
            "text/plain": [
              "'eicS'"
            ],
            "application/vnd.google.colaboratory.intrinsic+json": {
              "type": "string"
            }
          },
          "metadata": {},
          "execution_count": 24
        }
      ]
    },
    {
      "cell_type": "code",
      "source": [
        "#When the step is negative the traversal is away from L to R and if not possible returns an empty string\n",
        "a=\"mydiary\"\n",
        "a[1:5:-1]"
      ],
      "metadata": {
        "colab": {
          "base_uri": "https://localhost:8080/",
          "height": 36
        },
        "id": "RwspDIvr5Zs2",
        "outputId": "887ec1af-2f03-4d9c-f2c3-86fb004190cc"
      },
      "execution_count": null,
      "outputs": [
        {
          "output_type": "execute_result",
          "data": {
            "text/plain": [
              "''"
            ],
            "application/vnd.google.colaboratory.intrinsic+json": {
              "type": "string"
            }
          },
          "metadata": {},
          "execution_count": 26
        }
      ]
    },
    {
      "cell_type": "code",
      "source": [
        "a[5:1:-1]"
      ],
      "metadata": {
        "colab": {
          "base_uri": "https://localhost:8080/",
          "height": 36
        },
        "id": "-W755g0n6WyO",
        "outputId": "83abf58f-092d-4027-f064-8ca3c13247c3"
      },
      "execution_count": null,
      "outputs": [
        {
          "output_type": "execute_result",
          "data": {
            "text/plain": [
              "'raid'"
            ],
            "application/vnd.google.colaboratory.intrinsic+json": {
              "type": "string"
            }
          },
          "metadata": {},
          "execution_count": 27
        }
      ]
    },
    {
      "cell_type": "code",
      "source": [
        "#gracefully handle out of range slicing but not indexing\n",
        "a[4:78]"
      ],
      "metadata": {
        "colab": {
          "base_uri": "https://localhost:8080/",
          "height": 36
        },
        "id": "EC2K5ez56usZ",
        "outputId": "f5f42628-9f05-427c-a5b7-b99a7b8d2c11"
      },
      "execution_count": null,
      "outputs": [
        {
          "output_type": "execute_result",
          "data": {
            "text/plain": [
              "'ary'"
            ],
            "application/vnd.google.colaboratory.intrinsic+json": {
              "type": "string"
            }
          },
          "metadata": {},
          "execution_count": 28
        }
      ]
    },
    {
      "cell_type": "code",
      "source": [
        "#python strings are immutable\n",
        "name=\"manu\"\n",
        "name[0]=\"s\"\n",
        "print(name)"
      ],
      "metadata": {
        "colab": {
          "base_uri": "https://localhost:8080/",
          "height": 176
        },
        "id": "ZN76nUzl616e",
        "outputId": "e14d8fc1-d6c5-4c18-c2b7-80712551ad13"
      },
      "execution_count": null,
      "outputs": [
        {
          "output_type": "error",
          "ename": "TypeError",
          "evalue": "'str' object does not support item assignment",
          "traceback": [
            "\u001b[0;31m---------------------------------------------------------------------------\u001b[0m",
            "\u001b[0;31mTypeError\u001b[0m                                 Traceback (most recent call last)",
            "\u001b[0;32m<ipython-input-29-ab0379fdde5b>\u001b[0m in \u001b[0;36m<cell line: 2>\u001b[0;34m()\u001b[0m\n\u001b[1;32m      1\u001b[0m \u001b[0mname\u001b[0m\u001b[0;34m=\u001b[0m\u001b[0;34m\"manu\"\u001b[0m\u001b[0;34m\u001b[0m\u001b[0;34m\u001b[0m\u001b[0m\n\u001b[0;32m----> 2\u001b[0;31m \u001b[0mname\u001b[0m\u001b[0;34m[\u001b[0m\u001b[0;36m0\u001b[0m\u001b[0;34m]\u001b[0m\u001b[0;34m=\u001b[0m\u001b[0;34m\"s\"\u001b[0m\u001b[0;34m\u001b[0m\u001b[0;34m\u001b[0m\u001b[0m\n\u001b[0m\u001b[1;32m      3\u001b[0m \u001b[0mprint\u001b[0m\u001b[0;34m(\u001b[0m\u001b[0mname\u001b[0m\u001b[0;34m)\u001b[0m\u001b[0;34m\u001b[0m\u001b[0;34m\u001b[0m\u001b[0m\n",
            "\u001b[0;31mTypeError\u001b[0m: 'str' object does not support item assignment"
          ]
        }
      ]
    },
    {
      "cell_type": "code",
      "source": [
        "#String functions\n",
        "len(name)"
      ],
      "metadata": {
        "colab": {
          "base_uri": "https://localhost:8080/"
        },
        "id": "3oIDW_DD7JCo",
        "outputId": "8fabb26d-d71c-435d-a8f8-eccc95ed1b4f"
      },
      "execution_count": null,
      "outputs": [
        {
          "output_type": "execute_result",
          "data": {
            "text/plain": [
              "4"
            ]
          },
          "metadata": {},
          "execution_count": 30
        }
      ]
    },
    {
      "cell_type": "code",
      "source": [
        "#find substring\n",
        "name=\"mydiary\"\n",
        "name.find(\"dia\")"
      ],
      "metadata": {
        "colab": {
          "base_uri": "https://localhost:8080/"
        },
        "id": "vPoB_AFt7Y0a",
        "outputId": "90501a50-797b-48b3-9ae0-1ce0beb1dc64"
      },
      "execution_count": null,
      "outputs": [
        {
          "output_type": "execute_result",
          "data": {
            "text/plain": [
              "2"
            ]
          },
          "metadata": {},
          "execution_count": 31
        }
      ]
    },
    {
      "cell_type": "code",
      "source": [
        "#count of sunstring\n",
        "namec=\"Mississippi\"\n",
        "namec.count(\"is\")"
      ],
      "metadata": {
        "colab": {
          "base_uri": "https://localhost:8080/"
        },
        "id": "fJKfIxox7myb",
        "outputId": "6d28bbc3-20f3-4700-8bb1-f3187771706f"
      },
      "execution_count": null,
      "outputs": [
        {
          "output_type": "execute_result",
          "data": {
            "text/plain": [
              "2"
            ]
          },
          "metadata": {},
          "execution_count": 32
        }
      ]
    },
    {
      "cell_type": "code",
      "source": [
        "#splitting\n",
        "address=\"DSA,Technopark,Trivandrum Kerala\"\n",
        "address.split(\",\")"
      ],
      "metadata": {
        "colab": {
          "base_uri": "https://localhost:8080/"
        },
        "id": "M1HjKSJr7-Co",
        "outputId": "2911a903-3fab-479a-d0a0-4df437158654"
      },
      "execution_count": null,
      "outputs": [
        {
          "output_type": "execute_result",
          "data": {
            "text/plain": [
              "['DSA', 'Technopark', 'Trivandrum Kerala']"
            ]
          },
          "metadata": {},
          "execution_count": 33
        }
      ]
    },
    {
      "cell_type": "code",
      "source": [
        "address.split(\" \")"
      ],
      "metadata": {
        "colab": {
          "base_uri": "https://localhost:8080/"
        },
        "id": "Gn5r9Ey98UYx",
        "outputId": "dd11011b-642b-4694-88f0-8a1b49fbbd38"
      },
      "execution_count": null,
      "outputs": [
        {
          "output_type": "execute_result",
          "data": {
            "text/plain": [
              "['DSA,Technopark,Trivandrum', 'Kerala']"
            ]
          },
          "metadata": {},
          "execution_count": 34
        }
      ]
    },
    {
      "cell_type": "code",
      "source": [
        "address=\"dsa@gmail.com\"\n",
        "address.split(\"@\")"
      ],
      "metadata": {
        "colab": {
          "base_uri": "https://localhost:8080/"
        },
        "id": "POR2Gyyr8cIB",
        "outputId": "369005dc-8645-4e92-a3c0-889e73713827"
      },
      "execution_count": null,
      "outputs": [
        {
          "output_type": "execute_result",
          "data": {
            "text/plain": [
              "['dsa', 'gmail.com']"
            ]
          },
          "metadata": {},
          "execution_count": 35
        }
      ]
    },
    {
      "cell_type": "code",
      "source": [
        "string=\"hello wOrld\"\n",
        "string.upper()"
      ],
      "metadata": {
        "colab": {
          "base_uri": "https://localhost:8080/",
          "height": 36
        },
        "id": "-YNJI9NI8lAA",
        "outputId": "f1e88e85-261b-432b-b053-37d2657f5348"
      },
      "execution_count": null,
      "outputs": [
        {
          "output_type": "execute_result",
          "data": {
            "text/plain": [
              "'HELLO WORLD'"
            ],
            "application/vnd.google.colaboratory.intrinsic+json": {
              "type": "string"
            }
          },
          "metadata": {},
          "execution_count": 36
        }
      ]
    },
    {
      "cell_type": "code",
      "source": [
        "string.lower()"
      ],
      "metadata": {
        "colab": {
          "base_uri": "https://localhost:8080/",
          "height": 36
        },
        "id": "Y6rqvsP183M3",
        "outputId": "ce5a7217-a3f7-40dc-c98b-8deb2c37ed74"
      },
      "execution_count": null,
      "outputs": [
        {
          "output_type": "execute_result",
          "data": {
            "text/plain": [
              "'hello world'"
            ],
            "application/vnd.google.colaboratory.intrinsic+json": {
              "type": "string"
            }
          },
          "metadata": {},
          "execution_count": 37
        }
      ]
    },
    {
      "cell_type": "code",
      "source": [
        "string.title()"
      ],
      "metadata": {
        "colab": {
          "base_uri": "https://localhost:8080/",
          "height": 36
        },
        "id": "TNc2zbBL851o",
        "outputId": "2862f979-dd06-4fe0-cf6b-995c2ab89a91"
      },
      "execution_count": null,
      "outputs": [
        {
          "output_type": "execute_result",
          "data": {
            "text/plain": [
              "'Hello World'"
            ],
            "application/vnd.google.colaboratory.intrinsic+json": {
              "type": "string"
            }
          },
          "metadata": {},
          "execution_count": 38
        }
      ]
    },
    {
      "cell_type": "code",
      "source": [
        "string.capitalize()"
      ],
      "metadata": {
        "colab": {
          "base_uri": "https://localhost:8080/",
          "height": 36
        },
        "id": "E8OUOSSg88h9",
        "outputId": "611eab84-f158-49d4-faef-dfe8a3431451"
      },
      "execution_count": null,
      "outputs": [
        {
          "output_type": "execute_result",
          "data": {
            "text/plain": [
              "'Hello world'"
            ],
            "application/vnd.google.colaboratory.intrinsic+json": {
              "type": "string"
            }
          },
          "metadata": {},
          "execution_count": 39
        }
      ]
    },
    {
      "cell_type": "code",
      "source": [
        "string.swapcase()"
      ],
      "metadata": {
        "colab": {
          "base_uri": "https://localhost:8080/",
          "height": 36
        },
        "id": "_kPbqn7r9G1L",
        "outputId": "dc1c11a7-61a3-48e4-e5d2-5ad50408664c"
      },
      "execution_count": null,
      "outputs": [
        {
          "output_type": "execute_result",
          "data": {
            "text/plain": [
              "'HELLO WoRLD'"
            ],
            "application/vnd.google.colaboratory.intrinsic+json": {
              "type": "string"
            }
          },
          "metadata": {},
          "execution_count": 40
        }
      ]
    },
    {
      "cell_type": "code",
      "source": [
        "strings=\" hello world \"\n",
        "strings.strip()"
      ],
      "metadata": {
        "colab": {
          "base_uri": "https://localhost:8080/",
          "height": 36
        },
        "id": "ouDF0uuh9Pk3",
        "outputId": "d35b6852-863f-47c0-b84c-47f7a361c2ba"
      },
      "execution_count": null,
      "outputs": [
        {
          "output_type": "execute_result",
          "data": {
            "text/plain": [
              "'hello world'"
            ],
            "application/vnd.google.colaboratory.intrinsic+json": {
              "type": "string"
            }
          },
          "metadata": {},
          "execution_count": 42
        }
      ]
    },
    {
      "cell_type": "code",
      "source": [
        "strings.lstrip()"
      ],
      "metadata": {
        "colab": {
          "base_uri": "https://localhost:8080/",
          "height": 36
        },
        "id": "qe9WdwMM9cHl",
        "outputId": "cb215164-15d7-451e-e830-2c167f87d729"
      },
      "execution_count": null,
      "outputs": [
        {
          "output_type": "execute_result",
          "data": {
            "text/plain": [
              "'hello world '"
            ],
            "application/vnd.google.colaboratory.intrinsic+json": {
              "type": "string"
            }
          },
          "metadata": {},
          "execution_count": 43
        }
      ]
    },
    {
      "cell_type": "code",
      "source": [
        "strings.rstrip()"
      ],
      "metadata": {
        "colab": {
          "base_uri": "https://localhost:8080/",
          "height": 36
        },
        "id": "f3_SXaYQ9e2E",
        "outputId": "18a3724d-3e6a-4486-f649-c6d0e48c9f79"
      },
      "execution_count": null,
      "outputs": [
        {
          "output_type": "execute_result",
          "data": {
            "text/plain": [
              "' hello world'"
            ],
            "application/vnd.google.colaboratory.intrinsic+json": {
              "type": "string"
            }
          },
          "metadata": {},
          "execution_count": 44
        }
      ]
    },
    {
      "cell_type": "code",
      "source": [
        "\".\".join(string)"
      ],
      "metadata": {
        "colab": {
          "base_uri": "https://localhost:8080/",
          "height": 36
        },
        "id": "CVLWT88Q9nUS",
        "outputId": "28a0d45d-c722-4662-a968-b9b8f48aa8b9"
      },
      "execution_count": null,
      "outputs": [
        {
          "output_type": "execute_result",
          "data": {
            "text/plain": [
              "'h.e.l.l.o. .w.O.r.l.d'"
            ],
            "application/vnd.google.colaboratory.intrinsic+json": {
              "type": "string"
            }
          },
          "metadata": {},
          "execution_count": 45
        }
      ]
    },
    {
      "cell_type": "code",
      "source": [
        "#reversed acts like an iterator\n",
        "reversed(string)"
      ],
      "metadata": {
        "colab": {
          "base_uri": "https://localhost:8080/"
        },
        "id": "iZTi5KV-9wxn",
        "outputId": "be7c0a1e-38c9-41fa-af6f-ace5fd1fc134"
      },
      "execution_count": null,
      "outputs": [
        {
          "output_type": "execute_result",
          "data": {
            "text/plain": [
              "<reversed at 0x7af01a518ac0>"
            ]
          },
          "metadata": {},
          "execution_count": 46
        }
      ]
    },
    {
      "cell_type": "code",
      "source": [
        "\"\".join(reversed(string))"
      ],
      "metadata": {
        "colab": {
          "base_uri": "https://localhost:8080/",
          "height": 36
        },
        "id": "ey8eDiI497W6",
        "outputId": "df4c7123-36fe-4da6-865f-09e1f4b0ee69"
      },
      "execution_count": null,
      "outputs": [
        {
          "output_type": "execute_result",
          "data": {
            "text/plain": [
              "'dlrOw olleh'"
            ],
            "application/vnd.google.colaboratory.intrinsic+json": {
              "type": "string"
            }
          },
          "metadata": {},
          "execution_count": 47
        }
      ]
    },
    {
      "cell_type": "code",
      "source": [
        "#reversing using iteration\n",
        "string[::-1]"
      ],
      "metadata": {
        "colab": {
          "base_uri": "https://localhost:8080/",
          "height": 36
        },
        "id": "_3r10NUG-Bve",
        "outputId": "577ac330-4ee8-43f4-e252-dfd803feb863"
      },
      "execution_count": null,
      "outputs": [
        {
          "output_type": "execute_result",
          "data": {
            "text/plain": [
              "'dlrOw olleh'"
            ],
            "application/vnd.google.colaboratory.intrinsic+json": {
              "type": "string"
            }
          },
          "metadata": {},
          "execution_count": 48
        }
      ]
    },
    {
      "cell_type": "code",
      "source": [
        "list1=[1,2,3,4]\n",
        "list1[2]"
      ],
      "metadata": {
        "colab": {
          "base_uri": "https://localhost:8080/"
        },
        "id": "fUkfSOb4-QDi",
        "outputId": "9de318b6-b1fc-4b90-d59c-4473723e9270"
      },
      "execution_count": null,
      "outputs": [
        {
          "output_type": "execute_result",
          "data": {
            "text/plain": [
              "3"
            ]
          },
          "metadata": {},
          "execution_count": 49
        }
      ]
    },
    {
      "cell_type": "code",
      "source": [
        "list1[-2]"
      ],
      "metadata": {
        "colab": {
          "base_uri": "https://localhost:8080/"
        },
        "id": "f6JNiCKZ_GjJ",
        "outputId": "8ea40b8c-77a0-4f50-c3f3-1d8990670ec5"
      },
      "execution_count": null,
      "outputs": [
        {
          "output_type": "execute_result",
          "data": {
            "text/plain": [
              "3"
            ]
          },
          "metadata": {},
          "execution_count": 50
        }
      ]
    },
    {
      "cell_type": "code",
      "source": [
        "list1[1:4]"
      ],
      "metadata": {
        "colab": {
          "base_uri": "https://localhost:8080/"
        },
        "id": "BEP7XqvN_Itd",
        "outputId": "6e91e437-2eb9-444f-ffda-22ad5da5d00c"
      },
      "execution_count": null,
      "outputs": [
        {
          "output_type": "execute_result",
          "data": {
            "text/plain": [
              "[2, 3, 4]"
            ]
          },
          "metadata": {},
          "execution_count": 51
        }
      ]
    },
    {
      "cell_type": "code",
      "source": [
        "list1.append(5)"
      ],
      "metadata": {
        "id": "9yBhUHv__QFx"
      },
      "execution_count": null,
      "outputs": []
    },
    {
      "cell_type": "code",
      "source": [
        "list1"
      ],
      "metadata": {
        "colab": {
          "base_uri": "https://localhost:8080/"
        },
        "id": "F30cAMCD_dzE",
        "outputId": "22c2369e-9898-4851-e6d6-7bdd5d38701d"
      },
      "execution_count": null,
      "outputs": [
        {
          "output_type": "execute_result",
          "data": {
            "text/plain": [
              "[1, 2, 3, 4, 5]"
            ]
          },
          "metadata": {},
          "execution_count": 53
        }
      ]
    },
    {
      "cell_type": "code",
      "source": [
        "list1.pop()#uses index"
      ],
      "metadata": {
        "colab": {
          "base_uri": "https://localhost:8080/"
        },
        "id": "p13Dbj-y_ffd",
        "outputId": "2ec8f607-4e37-478f-9116-42a94288f70a"
      },
      "execution_count": null,
      "outputs": [
        {
          "output_type": "execute_result",
          "data": {
            "text/plain": [
              "5"
            ]
          },
          "metadata": {},
          "execution_count": 54
        }
      ]
    },
    {
      "cell_type": "code",
      "source": [
        "list1.remove(2)#uses the element"
      ],
      "metadata": {
        "id": "uIUdFbWD_ikE"
      },
      "execution_count": null,
      "outputs": []
    },
    {
      "cell_type": "code",
      "source": [
        "list1"
      ],
      "metadata": {
        "colab": {
          "base_uri": "https://localhost:8080/"
        },
        "id": "JfA9pWby_s8d",
        "outputId": "19e7d94d-71aa-4a01-d6cf-69e6fe949fb3"
      },
      "execution_count": null,
      "outputs": [
        {
          "output_type": "execute_result",
          "data": {
            "text/plain": [
              "[1, 3, 4]"
            ]
          },
          "metadata": {},
          "execution_count": 56
        }
      ]
    },
    {
      "cell_type": "code",
      "source": [
        "list1.insert(1,2)"
      ],
      "metadata": {
        "id": "wLZy5Tmo_4oh"
      },
      "execution_count": null,
      "outputs": []
    },
    {
      "cell_type": "code",
      "source": [
        "list1"
      ],
      "metadata": {
        "colab": {
          "base_uri": "https://localhost:8080/"
        },
        "id": "1WztDJ42AD5v",
        "outputId": "53d73c19-6010-47c0-c3a4-9558c3dd2ded"
      },
      "execution_count": null,
      "outputs": [
        {
          "output_type": "execute_result",
          "data": {
            "text/plain": [
              "[1, 2, 3, 4]"
            ]
          },
          "metadata": {},
          "execution_count": 58
        }
      ]
    },
    {
      "cell_type": "code",
      "source": [
        "list1.reverse()"
      ],
      "metadata": {
        "id": "JBcu9929AJGv"
      },
      "execution_count": null,
      "outputs": []
    },
    {
      "cell_type": "code",
      "source": [
        "list1"
      ],
      "metadata": {
        "colab": {
          "base_uri": "https://localhost:8080/"
        },
        "id": "WUSdaqaUAaS0",
        "outputId": "53ab172c-4894-44d8-b764-45901adc6134"
      },
      "execution_count": null,
      "outputs": [
        {
          "output_type": "execute_result",
          "data": {
            "text/plain": [
              "[4, 3, 2, 1]"
            ]
          },
          "metadata": {},
          "execution_count": 60
        }
      ]
    },
    {
      "cell_type": "code",
      "source": [
        "letters=['a','b','c','d','e','f','g']"
      ],
      "metadata": {
        "id": "4bwoG3WlAjgD"
      },
      "execution_count": null,
      "outputs": []
    },
    {
      "cell_type": "code",
      "source": [
        "letters[2:5]=['C','D','E']"
      ],
      "metadata": {
        "id": "EQ_QBFTsAwOf"
      },
      "execution_count": null,
      "outputs": []
    },
    {
      "cell_type": "code",
      "source": [
        "letters"
      ],
      "metadata": {
        "colab": {
          "base_uri": "https://localhost:8080/"
        },
        "id": "7G68gYS1A3uI",
        "outputId": "22290e18-4bf8-49bb-dcf3-b50fdeea0ab5"
      },
      "execution_count": null,
      "outputs": [
        {
          "output_type": "execute_result",
          "data": {
            "text/plain": [
              "['a', 'b', 'C', 'D', 'E', 'f', 'g']"
            ]
          },
          "metadata": {},
          "execution_count": 63
        }
      ]
    },
    {
      "cell_type": "code",
      "source": [
        "letters[2:5]"
      ],
      "metadata": {
        "colab": {
          "base_uri": "https://localhost:8080/"
        },
        "id": "ftL_XWllA5hE",
        "outputId": "606b4279-1058-4a0f-e0c3-e755c0f7208c"
      },
      "execution_count": null,
      "outputs": [
        {
          "output_type": "execute_result",
          "data": {
            "text/plain": [
              "['C', 'D', 'E']"
            ]
          },
          "metadata": {},
          "execution_count": 64
        }
      ]
    },
    {
      "cell_type": "code",
      "source": [
        "letters[:]"
      ],
      "metadata": {
        "colab": {
          "base_uri": "https://localhost:8080/"
        },
        "id": "TCbmAc-VA8zd",
        "outputId": "f8edfe77-0ba7-4b89-aa03-bf9fa7ff9da2"
      },
      "execution_count": null,
      "outputs": [
        {
          "output_type": "execute_result",
          "data": {
            "text/plain": [
              "['a', 'b', 'C', 'D', 'E', 'f', 'g']"
            ]
          },
          "metadata": {},
          "execution_count": 65
        }
      ]
    },
    {
      "cell_type": "code",
      "source": [
        "letters"
      ],
      "metadata": {
        "colab": {
          "base_uri": "https://localhost:8080/"
        },
        "id": "57w5bzckBA8c",
        "outputId": "d1918f05-1c41-45c1-b0fa-938b637647c7"
      },
      "execution_count": null,
      "outputs": [
        {
          "output_type": "execute_result",
          "data": {
            "text/plain": [
              "['a', 'b', 'C', 'D', 'E', 'f', 'g']"
            ]
          },
          "metadata": {},
          "execution_count": 66
        }
      ]
    },
    {
      "cell_type": "code",
      "source": [
        "names=[\"Thomas\",\"Mathew\",\"Peter\",\"Alex\"]\n",
        "print(names[0])\n",
        "print(names[1])\n",
        "print(names[2])\n",
        "print(names[3])"
      ],
      "metadata": {
        "colab": {
          "base_uri": "https://localhost:8080/"
        },
        "id": "8wt4VOPNwyNv",
        "outputId": "0fa86261-5340-4a68-f91d-17d0e1973fc0"
      },
      "execution_count": null,
      "outputs": [
        {
          "output_type": "stream",
          "name": "stdout",
          "text": [
            "Thomas\n",
            "Mathew\n",
            "Peter\n",
            "Alex\n"
          ]
        }
      ]
    },
    {
      "cell_type": "code",
      "source": [
        "message=\"Hi welcome to the MERN stack+ Gen AI batch,\"\n",
        "print(message+names[0])\n",
        "print(message+names[1])\n",
        "print(message+names[2])\n",
        "print(message+names[3])"
      ],
      "metadata": {
        "colab": {
          "base_uri": "https://localhost:8080/"
        },
        "id": "5t31e_nNxYV9",
        "outputId": "dcfaa9f5-ff8e-4230-ed55-0d6eb5365ab3"
      },
      "execution_count": null,
      "outputs": [
        {
          "output_type": "stream",
          "name": "stdout",
          "text": [
            "Hi welcome to the MERN stack+ Gen AI batch,Thomas\n",
            "Hi welcome to the MERN stack+ Gen AI batch,Mathew\n",
            "Hi welcome to the MERN stack+ Gen AI batch,Peter\n",
            "Hi welcome to the MERN stack+ Gen AI batch,Alex\n"
          ]
        }
      ]
    },
    {
      "cell_type": "code",
      "source": [
        "person=[\"Alex\",\"Reena\",\"John\"]\n",
        "person.insert(1,\"USA\")\n",
        "person.insert(3,\"Russia\")\n",
        "person.insert(5,\"America\")\n",
        "print(person)"
      ],
      "metadata": {
        "colab": {
          "base_uri": "https://localhost:8080/"
        },
        "id": "Fx8nipyAyZps",
        "outputId": "59a48764-5c98-4708-b3d3-759f48d6578e"
      },
      "execution_count": null,
      "outputs": [
        {
          "output_type": "stream",
          "name": "stdout",
          "text": [
            "['Alex', 'USA', 'Reena', 'Russia', 'John', 'America']\n"
          ]
        }
      ]
    },
    {
      "cell_type": "code",
      "source": [
        "person=[\"Alex\",\"Reena\",\"John\"]\n",
        "country=[\"USA\",\"Russia\",\"America\"]\n",
        "i=1\n",
        "for j in range(3):\n",
        "  person.insert(i,country[j])\n",
        "  i=i+2\n",
        "print(person)"
      ],
      "metadata": {
        "colab": {
          "base_uri": "https://localhost:8080/"
        },
        "id": "JVbG2Oy-_U3g",
        "outputId": "413e57e6-8019-4ee2-833f-0dcc7637663c"
      },
      "execution_count": null,
      "outputs": [
        {
          "output_type": "stream",
          "name": "stdout",
          "text": [
            "['Alex', 'USA', 'Reena', 'Russia', 'John', 'America']\n"
          ]
        }
      ]
    },
    {
      "cell_type": "code",
      "source": [
        "fruits=[\"orange\",\"apple\",\"pear\",\"banana\",\"kiwi\",\"Apple\",\"Banana\"]\n",
        "fruits.sort()\n",
        "print(fruits)\n",
        "fruits.sort(reverse=True)\n",
        "print(fruits)"
      ],
      "metadata": {
        "colab": {
          "base_uri": "https://localhost:8080/"
        },
        "id": "IKZ5ceMS0iwI",
        "outputId": "5712470b-44d9-4ee8-c3b5-77ac7cd33093"
      },
      "execution_count": null,
      "outputs": [
        {
          "output_type": "stream",
          "name": "stdout",
          "text": [
            "['Apple', 'Banana', 'apple', 'banana', 'kiwi', 'orange', 'pear']\n",
            "['pear', 'orange', 'kiwi', 'banana', 'apple', 'Banana', 'Apple']\n"
          ]
        }
      ]
    },
    {
      "cell_type": "code",
      "source": [
        "#Tuples\n",
        "num=1,2,3\n",
        "num1=(1,2,3)\n",
        "print(type(num))\n",
        "print(type(num1))"
      ],
      "metadata": {
        "colab": {
          "base_uri": "https://localhost:8080/"
        },
        "id": "sqn23QY112G9",
        "outputId": "9b66822b-3a76-4fc6-a345-3a947864a33d"
      },
      "execution_count": null,
      "outputs": [
        {
          "output_type": "stream",
          "name": "stdout",
          "text": [
            "<class 'tuple'>\n",
            "<class 'tuple'>\n"
          ]
        }
      ]
    },
    {
      "cell_type": "code",
      "source": [
        "nums=tuple()#creating an empty tuple using a constructor\n",
        "nums1=()\n",
        "print(type(nums))"
      ],
      "metadata": {
        "colab": {
          "base_uri": "https://localhost:8080/"
        },
        "id": "ygfurGwk2Yaw",
        "outputId": "7319df95-8140-4233-b33b-878e2a5b1b41"
      },
      "execution_count": null,
      "outputs": [
        {
          "output_type": "stream",
          "name": "stdout",
          "text": [
            "<class 'tuple'>\n"
          ]
        }
      ]
    },
    {
      "cell_type": "code",
      "source": [
        "number=1,\n",
        "print(id(number))"
      ],
      "metadata": {
        "colab": {
          "base_uri": "https://localhost:8080/"
        },
        "id": "CAoqrar_3DDn",
        "outputId": "3f69fe91-d6af-4ccd-f61f-77e16d8727b1"
      },
      "execution_count": null,
      "outputs": [
        {
          "output_type": "stream",
          "name": "stdout",
          "text": [
            "140151706246192\n"
          ]
        }
      ]
    },
    {
      "cell_type": "code",
      "source": [
        "number=number+(2,3)\n",
        "number"
      ],
      "metadata": {
        "colab": {
          "base_uri": "https://localhost:8080/"
        },
        "id": "iCXU7n7z3L0C",
        "outputId": "51ba63f2-51a8-4642-d8c5-d80f36cec1f2"
      },
      "execution_count": null,
      "outputs": [
        {
          "output_type": "execute_result",
          "data": {
            "text/plain": [
              "(1, 2, 3)"
            ]
          },
          "metadata": {},
          "execution_count": 15
        }
      ]
    },
    {
      "cell_type": "code",
      "source": [
        "print(id(number))"
      ],
      "metadata": {
        "colab": {
          "base_uri": "https://localhost:8080/"
        },
        "id": "FdHAacMK3P9M",
        "outputId": "cb7afcaf-ee04-4f35-b54d-bd390440cfce"
      },
      "execution_count": null,
      "outputs": [
        {
          "output_type": "stream",
          "name": "stdout",
          "text": [
            "140151706388416\n"
          ]
        }
      ]
    },
    {
      "cell_type": "code",
      "source": [
        "len(number)"
      ],
      "metadata": {
        "colab": {
          "base_uri": "https://localhost:8080/"
        },
        "id": "GBLDl5dl3UGZ",
        "outputId": "bcedf033-4c81-4573-c5ad-52bb12f9511f"
      },
      "execution_count": null,
      "outputs": [
        {
          "output_type": "execute_result",
          "data": {
            "text/plain": [
              "3"
            ]
          },
          "metadata": {},
          "execution_count": 17
        }
      ]
    },
    {
      "cell_type": "code",
      "source": [
        "number.count(1)"
      ],
      "metadata": {
        "colab": {
          "base_uri": "https://localhost:8080/"
        },
        "id": "_jUxsiE24Af9",
        "outputId": "49e86bd1-f76b-4319-e953-431eef98b8dc"
      },
      "execution_count": null,
      "outputs": [
        {
          "output_type": "execute_result",
          "data": {
            "text/plain": [
              "1"
            ]
          },
          "metadata": {},
          "execution_count": 18
        }
      ]
    },
    {
      "cell_type": "code",
      "source": [
        "number.index(3)"
      ],
      "metadata": {
        "colab": {
          "base_uri": "https://localhost:8080/"
        },
        "id": "vFU3MsQv4Fqu",
        "outputId": "6658ceef-129b-4a66-9313-01579500c118"
      },
      "execution_count": null,
      "outputs": [
        {
          "output_type": "execute_result",
          "data": {
            "text/plain": [
              "2"
            ]
          },
          "metadata": {},
          "execution_count": 19
        }
      ]
    },
    {
      "cell_type": "code",
      "source": [
        "#Dictionaries\n",
        "dict1=dict()\n",
        "dict2={}\n",
        "print(type(dict1))\n",
        "print(type(dict2))"
      ],
      "metadata": {
        "colab": {
          "base_uri": "https://localhost:8080/"
        },
        "id": "6g3mFcKa4Owf",
        "outputId": "633dae96-b1b5-4be6-d9b2-fa1f7a5d2fd1"
      },
      "execution_count": null,
      "outputs": [
        {
          "output_type": "stream",
          "name": "stdout",
          "text": [
            "<class 'dict'>\n",
            "<class 'dict'>\n"
          ]
        }
      ]
    },
    {
      "cell_type": "code",
      "source": [
        "dict1={\"a\":\"apple\",\"b\":\"balloon\",\"c\":\"comb\"}\n",
        "print(dict1[\"a\"])\n",
        "print(dict1[\"b\"])\n",
        "print(dict1[\"c\"])"
      ],
      "metadata": {
        "colab": {
          "base_uri": "https://localhost:8080/"
        },
        "id": "he-kNIc-57x6",
        "outputId": "4262bd32-ab8d-4ef6-99f6-46d216fb58e6"
      },
      "execution_count": null,
      "outputs": [
        {
          "output_type": "stream",
          "name": "stdout",
          "text": [
            "apple\n",
            "balloon\n",
            "comb\n"
          ]
        }
      ]
    },
    {
      "cell_type": "code",
      "source": [
        "company={}\n",
        "company['name']=\"Curvelogics\"\n",
        "print(company)\n",
        "company['place']=\"Trivandrum\"\n",
        "print(company)"
      ],
      "metadata": {
        "colab": {
          "base_uri": "https://localhost:8080/"
        },
        "id": "r94w38az6Pve",
        "outputId": "190736e4-cbb8-4cdd-c68e-98413986b8ef"
      },
      "execution_count": null,
      "outputs": [
        {
          "output_type": "stream",
          "name": "stdout",
          "text": [
            "{'name': 'Curvelogics'}\n",
            "{'name': 'Curvelogics', 'place': 'Trivandrum'}\n"
          ]
        }
      ]
    },
    {
      "cell_type": "code",
      "source": [
        "print(company.values())\n",
        "values=list(company.values())\n",
        "print(type(company.values()))\n",
        "print(type(values))\n",
        "print(company.keys())\n",
        "print(company.items())"
      ],
      "metadata": {
        "colab": {
          "base_uri": "https://localhost:8080/"
        },
        "id": "RvhXpjwN6lSZ",
        "outputId": "858c755a-0cb7-49fe-e9c1-f21c0821b7d7"
      },
      "execution_count": null,
      "outputs": [
        {
          "output_type": "stream",
          "name": "stdout",
          "text": [
            "dict_values(['Curvelogics', 'Trivandrum'])\n",
            "<class 'dict_values'>\n",
            "<class 'list'>\n",
            "dict_keys(['name', 'place'])\n",
            "dict_items([('name', 'Curvelogics'), ('place', 'Trivandrum')])\n"
          ]
        }
      ]
    },
    {
      "cell_type": "code",
      "source": [
        "#nested dictionary\n",
        "#A dictionary within a list\n",
        "comp1={\"Curvelogics\":\"Trivandrum\"}\n",
        "comp2={\"TCS\":\"Kochi\"}\n",
        "comp3={\"Infosys\":\"Bangalore\"}\n",
        "company=[comp1,comp2,comp3]\n",
        "print(company)"
      ],
      "metadata": {
        "colab": {
          "base_uri": "https://localhost:8080/"
        },
        "id": "6wUlCuie7TpK",
        "outputId": "30688f62-8efe-456b-983e-45dac8cb50d4"
      },
      "execution_count": null,
      "outputs": [
        {
          "output_type": "stream",
          "name": "stdout",
          "text": [
            "[{'Curvelogics': 'Trivandrum'}, {'TCS': 'Kochi'}, {'Infosys': 'Bangalore'}]\n"
          ]
        }
      ]
    },
    {
      "cell_type": "code",
      "source": [
        "#Multiple lists within a dictionary\n",
        "locations={\"name\":[\"Curvelogics\",\"TCS\",\"Infosys\"],\"place\":[\"TVM\",\"Kochi\",\"Banglore\"]}\n"
      ],
      "metadata": {
        "id": "PZ5BaT8y8VmD"
      },
      "execution_count": null,
      "outputs": []
    },
    {
      "cell_type": "code",
      "source": [
        "#Sets\n",
        "set1=set()\n",
        "print(type(set1))"
      ],
      "metadata": {
        "colab": {
          "base_uri": "https://localhost:8080/"
        },
        "id": "zSQUp4q_84iJ",
        "outputId": "77db16ef-5ff1-4fd1-848d-b6760d414f64"
      },
      "execution_count": null,
      "outputs": [
        {
          "output_type": "stream",
          "name": "stdout",
          "text": [
            "<class 'set'>\n"
          ]
        }
      ]
    },
    {
      "cell_type": "code",
      "source": [
        "sets={1,2,3,4,5,2,3,7,8,9,10}\n",
        "print(sets)"
      ],
      "metadata": {
        "colab": {
          "base_uri": "https://localhost:8080/"
        },
        "id": "T0tgcT6e9XG-",
        "outputId": "8c72af87-7357-47ac-9e22-f414c69439e2"
      },
      "execution_count": null,
      "outputs": [
        {
          "output_type": "stream",
          "name": "stdout",
          "text": [
            "{1, 2, 3, 4, 5, 7, 8, 9, 10}\n"
          ]
        }
      ]
    },
    {
      "cell_type": "code",
      "source": [
        "sets1={0,0.01,False,True,1,1.0}\n",
        "print(sets1)"
      ],
      "metadata": {
        "colab": {
          "base_uri": "https://localhost:8080/"
        },
        "id": "rYWfUiEV9oJE",
        "outputId": "010190e2-a7e8-4277-b3ba-98209b93bc90"
      },
      "execution_count": null,
      "outputs": [
        {
          "output_type": "stream",
          "name": "stdout",
          "text": [
            "{0, True, 0.01}\n"
          ]
        }
      ]
    },
    {
      "cell_type": "code",
      "source": [
        "basket={'apple','orange','apple','pear','orange','banana'}\n",
        "print(basket)"
      ],
      "metadata": {
        "colab": {
          "base_uri": "https://localhost:8080/"
        },
        "id": "hDsvmCrm-eNz",
        "outputId": "f2c3ddf1-bbf0-42f8-d47f-9d4cdc123aa5"
      },
      "execution_count": null,
      "outputs": [
        {
          "output_type": "stream",
          "name": "stdout",
          "text": [
            "{'apple', 'banana', 'orange', 'pear'}\n"
          ]
        }
      ]
    },
    {
      "cell_type": "code",
      "source": [
        "#input\n",
        "name=input(\"Enter your name: \")\n",
        "print(\"Welcome \"+name+\"!\")"
      ],
      "metadata": {
        "colab": {
          "base_uri": "https://localhost:8080/"
        },
        "id": "qR3xwJboDYTV",
        "outputId": "21bc2722-0d3f-4354-d784-89909862856d"
      },
      "execution_count": null,
      "outputs": [
        {
          "output_type": "stream",
          "name": "stdout",
          "text": [
            "Enter your name: Adithya\n",
            "Welcome Adithya!\n"
          ]
        }
      ]
    },
    {
      "cell_type": "code",
      "source": [
        "#Explicit type casting\n",
        "year=int(input(\"Enter the year: \"))\n",
        "print(type(year))"
      ],
      "metadata": {
        "colab": {
          "base_uri": "https://localhost:8080/"
        },
        "id": "_nmZKIFTDmjS",
        "outputId": "4473171c-5096-4973-adfa-7057b22c47f3"
      },
      "execution_count": null,
      "outputs": [
        {
          "output_type": "stream",
          "name": "stdout",
          "text": [
            "Enter the year: 2024\n",
            "<class 'int'>\n"
          ]
        }
      ]
    },
    {
      "cell_type": "code",
      "source": [
        "#floor division\n",
        "a=5\n",
        "b=2\n",
        "print(a/b,a//b)"
      ],
      "metadata": {
        "colab": {
          "base_uri": "https://localhost:8080/"
        },
        "id": "UzVUYX9QDz_W",
        "outputId": "8ef7da27-6e90-4367-d35f-7d24102f803c"
      },
      "execution_count": null,
      "outputs": [
        {
          "output_type": "stream",
          "name": "stdout",
          "text": [
            "2.5 2\n"
          ]
        }
      ]
    },
    {
      "cell_type": "code",
      "source": [
        "#comparison\n",
        "a=int(input(\"First number: \"))\n",
        "b=int(input(\"Second number: \"))\n",
        "print(\"a>b: \",a>b)\n",
        "print(\"a<b: \",a<b)\n",
        "print(\"a==b: \",a==b)\n",
        "print(\"a not equals b: \",a!=b)\n",
        "print(\"a>=b: \",a>=b)\n",
        "print(\"a<=b: \",a<=b)"
      ],
      "metadata": {
        "colab": {
          "base_uri": "https://localhost:8080/"
        },
        "id": "1WxPFdcyFLSJ",
        "outputId": "f3fb61cb-fc75-4d8c-b816-e6161083d366"
      },
      "execution_count": null,
      "outputs": [
        {
          "output_type": "stream",
          "name": "stdout",
          "text": [
            "First number: 8\n",
            "Second number: 9\n",
            "a>b:  False\n",
            "a<b:  True\n",
            "a==b:  False\n",
            "a not equals b:  True\n",
            "a>=b:  False\n",
            "a<=b:  True\n"
          ]
        }
      ]
    },
    {
      "cell_type": "code",
      "source": [
        "#Membership\n",
        "names=[\"Alex\",\"Reena\",\"John\"]\n",
        "print(\"Alex\" in names)\n",
        "print(\"Alex\" not in names)\n",
        "print(\"Ros\" not in names)"
      ],
      "metadata": {
        "colab": {
          "base_uri": "https://localhost:8080/"
        },
        "id": "UtllGoRfFrd4",
        "outputId": "25fba6e2-b52c-496c-9b67-cdb8de63edd3"
      },
      "execution_count": null,
      "outputs": [
        {
          "output_type": "stream",
          "name": "stdout",
          "text": [
            "True\n",
            "False\n",
            "True\n"
          ]
        }
      ]
    },
    {
      "cell_type": "code",
      "source": [
        "dictnames={'a':\"apple\",'b':\"balloon\",'c':\"comb\"}\n",
        "print(\"a\" in dictnames)\n",
        "print(\"a\" not in dictnames)\n",
        "print(\"balloon\" in dictnames)"
      ],
      "metadata": {
        "colab": {
          "base_uri": "https://localhost:8080/"
        },
        "id": "RpRROCrwF-kg",
        "outputId": "0b2f8ccf-8849-4446-c2c9-40bafe22357e"
      },
      "execution_count": null,
      "outputs": [
        {
          "output_type": "stream",
          "name": "stdout",
          "text": [
            "True\n",
            "False\n",
            "False\n"
          ]
        }
      ]
    },
    {
      "cell_type": "code",
      "source": [
        "#math module\n",
        "import math as mt\n",
        "print(mt.pi)\n",
        "print(mt.e)\n",
        "x=20\n",
        "print(mt.sqrt(x))\n",
        "print(mt.cos(x))\n",
        "print(mt.sin(x))\n",
        "print(mt.tan(x))"
      ],
      "metadata": {
        "colab": {
          "base_uri": "https://localhost:8080/"
        },
        "id": "jRsSyNwxGcwn",
        "outputId": "566f181d-6113-4e4a-fa28-49fb8689e442"
      },
      "execution_count": null,
      "outputs": [
        {
          "output_type": "stream",
          "name": "stdout",
          "text": [
            "3.141592653589793\n",
            "2.718281828459045\n",
            "4.47213595499958\n",
            "0.40808206181339196\n",
            "0.9129452507276277\n",
            "2.237160944224742\n"
          ]
        }
      ]
    },
    {
      "cell_type": "code",
      "source": [
        "import math as mt\n",
        "x=int(input(\"Enter value of x: \"))\n",
        "y=int(input(\"Enter value of y: \"))\n",
        "z=int(input(\"Enter value of z: \"))\n",
        "w=int(input(\"Enter value of w: \"))\n",
        "res=(x**3)+(y**2)-((mt.sqrt(z))*w)\n",
        "print(res)"
      ],
      "metadata": {
        "colab": {
          "base_uri": "https://localhost:8080/"
        },
        "id": "4miQ_UkrG5sx",
        "outputId": "5d42f746-d4f7-4de8-e581-b62761497657"
      },
      "execution_count": null,
      "outputs": [
        {
          "output_type": "stream",
          "name": "stdout",
          "text": [
            "Enter value of x: 1\n",
            "Enter value of y: 2\n",
            "Enter value of z: 3\n",
            "Enter value of w: 4\n",
            "-1.9282032302755088\n"
          ]
        }
      ]
    },
    {
      "cell_type": "code",
      "source": [
        "import math as mt\n",
        "r=float(input(\"Enter radius: \"))\n",
        "ar=mt.pi*(r**2)\n",
        "print(\"Area: \",ar)"
      ],
      "metadata": {
        "colab": {
          "base_uri": "https://localhost:8080/"
        },
        "id": "Hqlc-nB7H5d9",
        "outputId": "f2b6c3a4-9e4f-4712-f631-ee334549a89e"
      },
      "execution_count": null,
      "outputs": [
        {
          "output_type": "stream",
          "name": "stdout",
          "text": [
            "Enter radius: 2\n",
            "Area:  12.566370614359172\n"
          ]
        }
      ]
    },
    {
      "cell_type": "code",
      "source": [
        "#Conditional statement If\n",
        "age=int(input(\"Enter your age: \"))\n",
        "if age>=18:\n",
        "  print(\"You are eligible to drive\")"
      ],
      "metadata": {
        "colab": {
          "base_uri": "https://localhost:8080/"
        },
        "id": "iQYhNpzAKK2s",
        "outputId": "59a940c9-a724-4b47-8461-adefa3ee98c4"
      },
      "execution_count": null,
      "outputs": [
        {
          "output_type": "stream",
          "name": "stdout",
          "text": [
            "Enter your age: 20\n",
            "You are eligible to drive\n"
          ]
        }
      ]
    },
    {
      "cell_type": "code",
      "source": [
        "#If-else\n",
        "age=int(input(\"Enter your age: \"))\n",
        "if age>=18:\n",
        "  print(\"You are eligible to drive\")\n",
        "else:\n",
        "  print(\"You are not eligible to drive\")"
      ],
      "metadata": {
        "colab": {
          "base_uri": "https://localhost:8080/"
        },
        "id": "vQk7bfntKZ-X",
        "outputId": "670132eb-3846-4296-a33e-202de935a212"
      },
      "execution_count": null,
      "outputs": [
        {
          "output_type": "stream",
          "name": "stdout",
          "text": [
            "Enter your age: 16\n",
            "You are not eligible to drive\n"
          ]
        }
      ]
    },
    {
      "cell_type": "code",
      "source": [
        "#If-elif-else\n",
        "age=int(input(\"Enter your age: \"))\n",
        "if age>=18:\n",
        "  print(\"You are eligible to drive\")\n",
        "elif age>=16 and age<18:\n",
        "  print(\"You are eligible to drive with a parent\")\n",
        "else:\n",
        "  print(\"You are not eligible to drive\")"
      ],
      "metadata": {
        "colab": {
          "base_uri": "https://localhost:8080/"
        },
        "id": "m4S46YYIKk45",
        "outputId": "3f3c9661-40a9-4f90-d79c-69739a37ffc5"
      },
      "execution_count": null,
      "outputs": [
        {
          "output_type": "stream",
          "name": "stdout",
          "text": [
            "Enter your age: 17\n",
            "You are eligible to drive with a parent\n"
          ]
        }
      ]
    },
    {
      "cell_type": "code",
      "source": [
        "num=int(input(\"Enter a number: \"))\n",
        "if num%2==0:\n",
        "  print(\"Even\")\n",
        "else:\n",
        "  print(\"Odd\")"
      ],
      "metadata": {
        "colab": {
          "base_uri": "https://localhost:8080/"
        },
        "id": "LkuswgvhLOW2",
        "outputId": "89ba861e-e639-4f34-c99f-1d244130f0d8"
      },
      "execution_count": null,
      "outputs": [
        {
          "output_type": "stream",
          "name": "stdout",
          "text": [
            "Enter a number: 4\n",
            "Even\n"
          ]
        }
      ]
    },
    {
      "cell_type": "code",
      "source": [
        "m=int(input(\"Enter marks: \"))\n",
        "if m>=95:\n",
        "  print(\"A+\")\n",
        "elif m>=90:\n",
        "  print(\"A\")\n",
        "elif m>=85:\n",
        "  print(\"B+\")\n",
        "elif m>=80:\n",
        "  print(\"B\")\n",
        "elif m>=30:\n",
        "  print(\"Pass\")\n",
        "else:\n",
        "  print(\"Fail\")"
      ],
      "metadata": {
        "colab": {
          "base_uri": "https://localhost:8080/"
        },
        "id": "yRyA7k7gL_L3",
        "outputId": "d4d61b9d-e77d-47ca-b1cd-8dab224d80c9"
      },
      "execution_count": null,
      "outputs": [
        {
          "output_type": "stream",
          "name": "stdout",
          "text": [
            "Enter marks: 82\n",
            "B\n"
          ]
        }
      ]
    },
    {
      "cell_type": "code",
      "source": [
        "#Loops\n",
        "#for loop\n",
        "for i in range(1,11,2):\n",
        "  print(i,end=\" \")"
      ],
      "metadata": {
        "colab": {
          "base_uri": "https://localhost:8080/"
        },
        "id": "08uc83UmN6Qk",
        "outputId": "638dca65-cc35-41dd-abf9-69d032f834bd"
      },
      "execution_count": null,
      "outputs": [
        {
          "output_type": "stream",
          "name": "stdout",
          "text": [
            "1 3 5 7 9 "
          ]
        }
      ]
    },
    {
      "cell_type": "code",
      "source": [
        "list1=['Karthik','Reena','Alex','Tony']\n",
        "for i in list1:\n",
        "  print(\"Hello \"+i+\" ,welcome to GenAI batch\")"
      ],
      "metadata": {
        "colab": {
          "base_uri": "https://localhost:8080/"
        },
        "id": "fcmeOmiYOAOR",
        "outputId": "1c1c0a50-fa21-4056-c974-1fbd14b1caef"
      },
      "execution_count": null,
      "outputs": [
        {
          "output_type": "stream",
          "name": "stdout",
          "text": [
            "Hello Karthik ,welcome to GenAI batch\n",
            "Hello Reena ,welcome to GenAI batch\n",
            "Hello Alex ,welcome to GenAI batch\n",
            "Hello Tony ,welcome to GenAI batch\n"
          ]
        }
      ]
    },
    {
      "cell_type": "code",
      "source": [
        "names={1:\"Ananad\",2:\"Gopal\",3:\"Karthik\",4:\"Prasad\"}\n",
        "for i in names:\n",
        "  print(f\"Hi roll number {i}, your name is {names[i]}, please verify...\")"
      ],
      "metadata": {
        "colab": {
          "base_uri": "https://localhost:8080/"
        },
        "id": "2gh_wnt5Oo1G",
        "outputId": "5af4ca33-fdaf-45ed-c878-3f254ed7f208"
      },
      "execution_count": null,
      "outputs": [
        {
          "output_type": "stream",
          "name": "stdout",
          "text": [
            "Hi roll number 1, your name is Ananad, please verify...\n",
            "Hi roll number 2, your name is Gopal, please verify...\n",
            "Hi roll number 3, your name is Karthik, please verify...\n",
            "Hi roll number 4, your name is Prasad, please verify...\n"
          ]
        }
      ]
    },
    {
      "cell_type": "code",
      "source": [
        "#While loop\n",
        "num=0\n",
        "while num<=10:\n",
        "  print(num,end=\" \")\n",
        "  num+=1"
      ],
      "metadata": {
        "colab": {
          "base_uri": "https://localhost:8080/"
        },
        "id": "w4iDru_PPxP3",
        "outputId": "5c6bda7a-8c7f-4dd0-8443-dd7c79d8dd08"
      },
      "execution_count": null,
      "outputs": [
        {
          "output_type": "stream",
          "name": "stdout",
          "text": [
            "0 1 2 3 4 5 6 7 8 9 10 "
          ]
        }
      ]
    },
    {
      "cell_type": "code",
      "source": [
        "prompt=\"\\nPlease enter city: \"\n",
        "prompt+=\"\\n(Enter 'quit' when you are finished)\"\n",
        "while True:\n",
        "  city=input(prompt)\n",
        "  if city=='quit':\n",
        "    break\n",
        "  else:\n",
        "    print(\"I'd love to go to \"+city.title()+\"!\")\n",
        "print(\"Out of the while loop\")"
      ],
      "metadata": {
        "colab": {
          "base_uri": "https://localhost:8080/"
        },
        "id": "dARkgp4URxEB",
        "outputId": "f85161f9-d65c-4fa0-9df0-74150919ff7b"
      },
      "execution_count": null,
      "outputs": [
        {
          "output_type": "stream",
          "name": "stdout",
          "text": [
            "\n",
            "Please enter city: \n",
            "(Enter 'quit' when you are finished)TVM\n",
            "I'd love to go to Tvm!\n",
            "\n",
            "Please enter city: \n",
            "(Enter 'quit' when you are finished)NY\n",
            "I'd love to go to Ny!\n",
            "\n",
            "Please enter city: \n",
            "(Enter 'quit' when you are finished)quit\n",
            "Out of the while loop\n"
          ]
        }
      ]
    },
    {
      "cell_type": "code",
      "source": [
        "num=0\n",
        "while num<10:\n",
        "  num+=1\n",
        "  if num%2==0:\n",
        "    continue\n",
        "  print(num,end=\" \")"
      ],
      "metadata": {
        "colab": {
          "base_uri": "https://localhost:8080/"
        },
        "id": "Eu92vyyhS609",
        "outputId": "38e6653f-77e5-4efc-b1b4-ac4e9f932880"
      },
      "execution_count": null,
      "outputs": [
        {
          "output_type": "stream",
          "name": "stdout",
          "text": [
            "1 3 5 7 9 "
          ]
        }
      ]
    },
    {
      "cell_type": "code",
      "source": [
        "#functions\n",
        "def oddeven(a):\n",
        "  if a%2==0:\n",
        "    return \"Even\"\n",
        "  else:\n",
        "    return \"Odd\"\n",
        "print(oddeven(5))"
      ],
      "metadata": {
        "colab": {
          "base_uri": "https://localhost:8080/"
        },
        "id": "oVWYgVtKTB0x",
        "outputId": "78de7abf-a830-4d1f-ee8e-f4be5acfb519"
      },
      "execution_count": null,
      "outputs": [
        {
          "output_type": "stream",
          "name": "stdout",
          "text": [
            "Odd\n"
          ]
        }
      ]
    },
    {
      "cell_type": "code",
      "source": [
        "def printer(a):\n",
        "  if a==\"Hi\":\n",
        "    return \"Varsha\"\n",
        "    return \"Harsha\"\n",
        "print(printer(\"Hi\"))"
      ],
      "metadata": {
        "colab": {
          "base_uri": "https://localhost:8080/"
        },
        "id": "Hs3XFqFNUrBx",
        "outputId": "0aea9878-96cb-4373-ba25-37bc06805f22"
      },
      "execution_count": null,
      "outputs": [
        {
          "output_type": "stream",
          "name": "stdout",
          "text": [
            "Varsha\n"
          ]
        }
      ]
    },
    {
      "cell_type": "code",
      "source": [
        "def printer(a):\n",
        "  b=\"Varsha\"\n",
        "  if a==\"Hi\":\n",
        "    return a,b\n",
        "print(printer(\"Hi\"))"
      ],
      "metadata": {
        "colab": {
          "base_uri": "https://localhost:8080/"
        },
        "id": "fXq-28jVVCpF",
        "outputId": "b2f6834c-5c35-4641-b24a-7d8461d12b50"
      },
      "execution_count": null,
      "outputs": [
        {
          "output_type": "stream",
          "name": "stdout",
          "text": [
            "('Hi', 'Varsha')\n"
          ]
        }
      ]
    },
    {
      "cell_type": "code",
      "source": [
        "def addnum(a,b):\n",
        "  print(a+b)\n",
        "addnum(10,20)\n",
        "addnum(50,50)"
      ],
      "metadata": {
        "colab": {
          "base_uri": "https://localhost:8080/"
        },
        "id": "HOfVONaxVTIr",
        "outputId": "bce3ca85-2f89-4f8a-e770-af67aa8e1a92"
      },
      "execution_count": null,
      "outputs": [
        {
          "output_type": "stream",
          "name": "stdout",
          "text": [
            "30\n",
            "100\n"
          ]
        }
      ]
    },
    {
      "cell_type": "code",
      "source": [
        "#default args\n",
        "def example(name,place=\"Trivandrum\"):\n",
        "  print(name.title()+\"is a name\")\n",
        "  print(place.title()+\"is a place\")\n",
        "example(name=\"Diya\")\n",
        "example(name=\"Aynam\",place=\"Manchester\")"
      ],
      "metadata": {
        "colab": {
          "base_uri": "https://localhost:8080/"
        },
        "id": "8ZZG9F2YWI9G",
        "outputId": "032b4281-947c-4877-a80a-0fa63828c49d"
      },
      "execution_count": null,
      "outputs": [
        {
          "output_type": "stream",
          "name": "stdout",
          "text": [
            "Diyais a name\n",
            "Trivandrumis a place\n",
            "Aynamis a name\n",
            "Manchesteris a place\n"
          ]
        }
      ]
    },
    {
      "cell_type": "code",
      "source": [
        "#positional args\n",
        "def example(name,place):\n",
        "  print(name.title()+\"is a name\")\n",
        "  print(place.title()+\"is a place\")\n",
        "example(\"Jack\",\"Norway\")\n",
        "example(\"Manchester\",\"Alex\")"
      ],
      "metadata": {
        "colab": {
          "base_uri": "https://localhost:8080/"
        },
        "id": "_9N7MZO8XZ02",
        "outputId": "aaa91200-08cd-4214-a101-77cf54ad3ff7"
      },
      "execution_count": null,
      "outputs": [
        {
          "output_type": "stream",
          "name": "stdout",
          "text": [
            "Jackis a name\n",
            "Norwayis a place\n",
            "Manchesteris a name\n",
            "Alexis a place\n"
          ]
        }
      ]
    },
    {
      "cell_type": "code",
      "source": [
        "#keyword args\n",
        "def example(name,place):\n",
        "  print(name.title()+\"is a name\")\n",
        "  print(place.title()+\"is a place\")\n",
        "example(name=\"Jack\",place=\"Norway\")\n",
        "example(place=\"Manchester\",name=\"Alex\")"
      ],
      "metadata": {
        "colab": {
          "base_uri": "https://localhost:8080/"
        },
        "id": "cOUoVEJgWl5l",
        "outputId": "9e4d1010-4f9b-4ff4-c213-65404c366bd0"
      },
      "execution_count": null,
      "outputs": [
        {
          "output_type": "stream",
          "name": "stdout",
          "text": [
            "Jackis a name\n",
            "Norwayis a place\n",
            "Alexis a name\n",
            "Manchesteris a place\n"
          ]
        }
      ]
    },
    {
      "cell_type": "code",
      "source": [
        "def build_persona(first_name,last_name):\n",
        "  person={'first':first_name,'last':last_name}\n",
        "  return person\n",
        "musician=build_persona('jimi','hendrix')\n",
        "print(musician)"
      ],
      "metadata": {
        "colab": {
          "base_uri": "https://localhost:8080/"
        },
        "id": "qK3e1bCIXqvz",
        "outputId": "9a09975c-e5f2-4629-d0f3-21616216da69"
      },
      "execution_count": null,
      "outputs": [
        {
          "output_type": "stream",
          "name": "stdout",
          "text": [
            "{'first': 'jimi', 'last': 'hendrix'}\n"
          ]
        }
      ]
    },
    {
      "cell_type": "code",
      "source": [
        "def fruits(*fruit):\n",
        "  print(fruit)\n",
        "print(fruits('apple'))\n",
        "print(fruits('grapes','orange','mango'))"
      ],
      "metadata": {
        "colab": {
          "base_uri": "https://localhost:8080/"
        },
        "id": "EY6uftGD2oIo",
        "outputId": "172f1c93-4af1-411a-b143-2d531a3cefee"
      },
      "execution_count": null,
      "outputs": [
        {
          "output_type": "stream",
          "name": "stdout",
          "text": [
            "('apple',)\n",
            "None\n",
            "('grapes', 'orange', 'mango')\n",
            "None\n"
          ]
        }
      ]
    },
    {
      "cell_type": "code",
      "source": [
        "def sample(first,last,**user_info):\n",
        "  profile={}\n",
        "  profile['first_name']=first\n",
        "  profile['last_name']=last\n",
        "  for key,value in user_info.items():\n",
        "    profile[key]=value\n",
        "  return profile\n",
        "user_profile=sample('albert','einstein',location='princeton',field='physics')\n",
        "print(user_profile)"
      ],
      "metadata": {
        "colab": {
          "base_uri": "https://localhost:8080/"
        },
        "id": "iou3eLY96x-v",
        "outputId": "f87bb8f9-6f1b-41eb-e60f-54e18c346294"
      },
      "execution_count": null,
      "outputs": [
        {
          "output_type": "stream",
          "name": "stdout",
          "text": [
            "{'first_name': 'albert', 'last_name': 'einstein', 'location': 'princeton', 'field': 'physics'}\n"
          ]
        }
      ]
    },
    {
      "cell_type": "code",
      "source": [
        "#recursion\n",
        "def fact(num):\n",
        "  if num==0:\n",
        "    return 1\n",
        "  else:\n",
        "    return num*fact(num-1)\n",
        "a=int(input(\"Enter a number: \"))\n",
        "print(fact(a))"
      ],
      "metadata": {
        "colab": {
          "base_uri": "https://localhost:8080/"
        },
        "id": "uBKIRkJZ7Xcj",
        "outputId": "9da2f888-3cc2-4cfc-d6a7-4d62a5338b6c"
      },
      "execution_count": null,
      "outputs": [
        {
          "output_type": "stream",
          "name": "stdout",
          "text": [
            "Enter a number: 5\n",
            "120\n"
          ]
        }
      ]
    },
    {
      "cell_type": "code",
      "source": [
        "l=int(input(\"Enter limit: \"))\n",
        "a=0\n",
        "b=1\n",
        "if(l==0):\n",
        "  print(\"No series\")\n",
        "elif(l==1):\n",
        "  print(a)\n",
        "elif(l==2):\n",
        "  print(a,b,end=\" \")\n",
        "else:\n",
        "  print(a,b,end=\" \")\n",
        "  for i in range(l-2):\n",
        "    c=a+b\n",
        "    print(c,end=\" \")\n",
        "    a=b\n",
        "    b=c"
      ],
      "metadata": {
        "colab": {
          "base_uri": "https://localhost:8080/"
        },
        "id": "CPQ0Op8Q_Z0I",
        "outputId": "c838a86d-b6b3-49eb-ac7e-0f8e82a06bc5"
      },
      "execution_count": null,
      "outputs": [
        {
          "output_type": "stream",
          "name": "stdout",
          "text": [
            "Enter limit: 7\n",
            "0 1 1 2 3 5 8 "
          ]
        }
      ]
    },
    {
      "cell_type": "code",
      "source": [
        "#files\n",
        "from google.colab import files\n",
        "#uploaded=files.upload()\n",
        "with open('test.txt','r') as f:\n",
        "  #f.write('This is a modified file')\n",
        "  print(f.read())"
      ],
      "metadata": {
        "colab": {
          "base_uri": "https://localhost:8080/"
        },
        "id": "STo8SN5-A10Z",
        "outputId": "efcbda4a-3f56-4186-98f1-222140578af4"
      },
      "execution_count": null,
      "outputs": [
        {
          "output_type": "stream",
          "name": "stdout",
          "text": [
            "This is a modified file\n"
          ]
        }
      ]
    },
    {
      "cell_type": "code",
      "source": [
        "fn=open('test.txt',\"w+\")\n",
        "print(fn.name)\n",
        "print(fn.closed)\n",
        "print(fn.mode)\n",
        "print(fn.softspace)\n",
        "fn.close()\n",
        "print(fn.closed)"
      ],
      "metadata": {
        "id": "Rxrk8mEEEebR"
      },
      "execution_count": null,
      "outputs": []
    },
    {
      "cell_type": "code",
      "source": [
        "with open(\"test.txt\") as f:\n",
        "  print(f.closed)\n",
        "print(f.closed)"
      ],
      "metadata": {
        "id": "hL7diwKvEtUy"
      },
      "execution_count": null,
      "outputs": []
    },
    {
      "cell_type": "code",
      "source": [
        "f2=open('test.txt','w+')\n",
        "f2.write(\"Hello\")\n",
        "f2.close()"
      ],
      "metadata": {
        "id": "mbPq6CVZHGVn"
      },
      "execution_count": null,
      "outputs": []
    },
    {
      "cell_type": "code",
      "source": [
        "f2=open('test.txt','r')\n",
        "print(f2.read(5))\n",
        "f2.close()"
      ],
      "metadata": {
        "colab": {
          "base_uri": "https://localhost:8080/"
        },
        "id": "rlQG5rbfHZjm",
        "outputId": "7466273f-12e9-4000-cd80-5e1d83facbf9"
      },
      "execution_count": null,
      "outputs": [
        {
          "output_type": "stream",
          "name": "stdout",
          "text": [
            "Hello\n"
          ]
        }
      ]
    },
    {
      "cell_type": "code",
      "source": [
        "f2=open('test.txt','w+')\n",
        "f2.write(\"line1\")\n",
        "f2.write(\"line2\")\n",
        "f2.close()"
      ],
      "metadata": {
        "id": "jbo-WMxPH2GP"
      },
      "execution_count": null,
      "outputs": []
    },
    {
      "cell_type": "code",
      "source": [
        "f2=open('test.txt','r')\n",
        "print(f2.readlines())\n",
        "f2.close()"
      ],
      "metadata": {
        "colab": {
          "base_uri": "https://localhost:8080/"
        },
        "id": "C9e3SQJLIC8s",
        "outputId": "c1eb2ae3-69b5-40a5-dc44-64bc03bc5bee"
      },
      "execution_count": null,
      "outputs": [
        {
          "output_type": "stream",
          "name": "stdout",
          "text": [
            "['line1line2']\n"
          ]
        }
      ]
    },
    {
      "cell_type": "code",
      "source": [
        "#Error handling try-except-else-finally\n",
        "while True:\n",
        "  try:\n",
        "    x=int(input(\"Enter a number: \"))\n",
        "    y=int(input(\"Enter another number: \"))\n",
        "    z=x/y\n",
        "    print(z)\n",
        "    break#remove to test else part\n",
        "  except ValueError:\n",
        "    print(\"Oops!  That was no valid number.  Try again...\")\n",
        "  except ZeroDivisionError:\n",
        "    print(\"Divison by zero is not possible\")\n",
        "  except TypeError:\n",
        "    print(\"Type was different\")\n",
        "  else:\n",
        "    print(\"In the slse part\")\n",
        "  finally:\n",
        "    print(\"This is a compulsary last portion\")"
      ],
      "metadata": {
        "colab": {
          "base_uri": "https://localhost:8080/"
        },
        "id": "GJmWXNgcINjT",
        "outputId": "ee903496-0a9b-429a-a42e-cf20c880d7f4"
      },
      "execution_count": null,
      "outputs": [
        {
          "output_type": "stream",
          "name": "stdout",
          "text": [
            "Enter a number: 1\n",
            "Enter another number: 2\n",
            "0.5\n",
            "This is a compulsary last portion\n"
          ]
        }
      ]
    },
    {
      "cell_type": "code",
      "source": [
        "#Classes\n",
        "#Class Definition\n",
        "class MyClass:\n",
        "  \"\"\"A simple example class\"\"\"#docstring\n",
        "  i=12345\n",
        "  def f(self):\n",
        "    return 'hello world'\n",
        "  def printer(this):#by default the first parameter mentioned in the definition is equivalent to self although self is a convention\n",
        "    print(this.i)"
      ],
      "metadata": {
        "id": "W0qYDYItNDIW"
      },
      "execution_count": null,
      "outputs": []
    },
    {
      "cell_type": "code",
      "source": [
        "help(MyClass)"
      ],
      "metadata": {
        "colab": {
          "base_uri": "https://localhost:8080/"
        },
        "id": "ahjakY_4T7rQ",
        "outputId": "d3a52173-11b5-4d85-f46b-f5c30c59b766"
      },
      "execution_count": null,
      "outputs": [
        {
          "output_type": "stream",
          "name": "stdout",
          "text": [
            "Help on class MyClass in module __main__:\n",
            "\n",
            "class MyClass(builtins.object)\n",
            " |  A simple example class\n",
            " |  \n",
            " |  Methods defined here:\n",
            " |  \n",
            " |  f(self)\n",
            " |  \n",
            " |  ----------------------------------------------------------------------\n",
            " |  Data descriptors defined here:\n",
            " |  \n",
            " |  __dict__\n",
            " |      dictionary for instance variables (if defined)\n",
            " |  \n",
            " |  __weakref__\n",
            " |      list of weak references to the object (if defined)\n",
            " |  \n",
            " |  ----------------------------------------------------------------------\n",
            " |  Data and other attributes defined here:\n",
            " |  \n",
            " |  i = 12345\n",
            "\n"
          ]
        }
      ]
    },
    {
      "cell_type": "code",
      "source": [
        "#Object creation or instantiation\n",
        "obj1=MyClass()"
      ],
      "metadata": {
        "id": "jRvbXfqwUQ9u"
      },
      "execution_count": null,
      "outputs": []
    },
    {
      "cell_type": "code",
      "source": [
        "#Callinf the function\n",
        "obj1.f()#self parameter is defined only during definition of the function and is passed automatically during function call\n"
      ],
      "metadata": {
        "colab": {
          "base_uri": "https://localhost:8080/",
          "height": 36
        },
        "id": "Nmkvt4D9UQ6N",
        "outputId": "b61670ba-0153-4bd4-bc76-eb01f4b59c03"
      },
      "execution_count": null,
      "outputs": [
        {
          "output_type": "execute_result",
          "data": {
            "text/plain": [
              "'hello world'"
            ],
            "application/vnd.google.colaboratory.intrinsic+json": {
              "type": "string"
            }
          },
          "metadata": {},
          "execution_count": 36
        }
      ]
    },
    {
      "cell_type": "code",
      "source": [
        "obj1.printer()"
      ],
      "metadata": {
        "colab": {
          "base_uri": "https://localhost:8080/"
        },
        "id": "DO9J3PSYVP5z",
        "outputId": "58a4ef7f-d465-40e0-c30f-2e02d8e838bc"
      },
      "execution_count": null,
      "outputs": [
        {
          "output_type": "stream",
          "name": "stdout",
          "text": [
            "12345\n"
          ]
        }
      ]
    },
    {
      "cell_type": "code",
      "source": [
        "#Init method demo\n",
        "class Complex:\n",
        "  def __init__(self,realpart,imagpart):\n",
        "    self.r=realpart\n",
        "    self.i=imagpart\n",
        "x=Complex(3.0,-4.5)\n",
        "print(x.r,x.i)\n",
        "y=Complex(1,2)\n",
        "print(y.r,y.i)"
      ],
      "metadata": {
        "colab": {
          "base_uri": "https://localhost:8080/"
        },
        "id": "gM-t2zddVe-a",
        "outputId": "6123c22d-655c-4add-a2a8-d21a0903a183"
      },
      "execution_count": null,
      "outputs": [
        {
          "output_type": "stream",
          "name": "stdout",
          "text": [
            "3.0 -4.5\n",
            "1 2\n"
          ]
        }
      ]
    },
    {
      "cell_type": "code",
      "source": [
        "#Example\n",
        "class Car:\n",
        "  def __init__(self,make,model):\n",
        "    self.make=make\n",
        "    self.model=model\n",
        "\n",
        "  def start(self):\n",
        "    return f\"{self.make} {self.model} started.\"\n",
        "\n",
        "  def drive(self):\n",
        "    return f\"{self.make} {self.model} is being driven\"\n",
        "\n",
        "toyota=Car(\"Toyota\",\"AE86\")\n",
        "print(toyota.start())\n",
        "print(toyota.drive())"
      ],
      "metadata": {
        "colab": {
          "base_uri": "https://localhost:8080/"
        },
        "id": "_dblR9xtV2VJ",
        "outputId": "b7e296d5-1e4e-486d-fe90-53e4a2daace6"
      },
      "execution_count": null,
      "outputs": [
        {
          "output_type": "stream",
          "name": "stdout",
          "text": [
            "Toyota AE86 started.\n",
            "Toyota AE86 is being driven\n"
          ]
        }
      ]
    },
    {
      "cell_type": "code",
      "source": [
        "#Polymorphism and Inheritance\n",
        "class Car:\n",
        "  def __init__(self,make,model):\n",
        "    self.make=make\n",
        "    self.model=model\n",
        "\n",
        "  def start(self):\n",
        "    return f\"{self.make} {self.model} started.\"\n",
        "\n",
        "  def drive(self):\n",
        "    return f\"{self.make} {self.model} is being driven\"\n",
        "\n",
        "class ElectricCar(Car): #the parent class is mentioned within the ()\n",
        " # def __init__(self,make,model,battery_size):\n",
        "  #  super().__init__(make,model)\n",
        "   # self.battery_size=battery_size\n",
        "\n",
        "  def spinning(self):\n",
        "    return f\"{self.make} {self.model} is being spun\"\n",
        "\n",
        "toyota=ElectricCar(\"Toyota\",\"Corolla\")\n",
        "print(toyota.start())\n",
        "print(toyota.drive())\n",
        "print(toyota.spinning())"
      ],
      "metadata": {
        "colab": {
          "base_uri": "https://localhost:8080/"
        },
        "id": "oCiYvyEhXc-Z",
        "outputId": "77cdb222-0f45-4118-c319-735300069488"
      },
      "execution_count": null,
      "outputs": [
        {
          "output_type": "stream",
          "name": "stdout",
          "text": [
            "Toyota Corolla started.\n",
            "Toyota Corolla is being driven\n",
            "Toyota Corolla is being spun\n"
          ]
        }
      ]
    },
    {
      "cell_type": "code",
      "source": [
        "#Polymorphism and Inheritance\n",
        "class Cars:\n",
        "  def __init__(self,make,model):\n",
        "    self.make=make\n",
        "    self.model=model\n",
        "\n",
        "  def start(self):\n",
        "    return f\"{self.make} {self.model} started.\"\n",
        "\n",
        "  def drive(self):\n",
        "    return f\"{self.make} {self.model} is being driven\"\n",
        "\n",
        "class ElectricCars(Cars): #the parent class is mentioned within the ()\n",
        "  def start(self):\n",
        "    return f\"{self.make} {self.model} is being started slowly\"\n",
        "  def drive(self):\n",
        "    return f\"{self.make} {self.model} is being driven slowly\"\n",
        "\n",
        "class RacingCars(Cars): #the parent class is mentioned within the ()\n",
        "  def start(self):\n",
        "    return f\"{self.make} {self.model} is being roaring and starting\"\n",
        "\n",
        "toyota=Cars(\"Toyota\",\"Corolla\")\n",
        "print(toyota.start())\n",
        "print(toyota.drive())\n",
        "nexon=ElectricCars(\"Tata\",\"nexon\")\n",
        "print(nexon.start())\n",
        "print(nexon.drive())\n",
        "f=RacingCars(\"Ferrai\",\"f2002\")\n",
        "print(f.start())\n",
        "print(f.drive())"
      ],
      "metadata": {
        "colab": {
          "base_uri": "https://localhost:8080/"
        },
        "id": "H7yuDo7AXsep",
        "outputId": "90259656-2746-46fc-aec0-1cd5e42dd657"
      },
      "execution_count": null,
      "outputs": [
        {
          "output_type": "stream",
          "name": "stdout",
          "text": [
            "Toyota Corolla started.\n",
            "Toyota Corolla is being driven\n",
            "Tata nexon is being started slowly\n",
            "Tata nexon is being driven slowly\n",
            "Ferrai f2002 is being roaring and starting\n",
            "Ferrai f2002 is being driven\n"
          ]
        }
      ]
    },
    {
      "cell_type": "code",
      "source": [
        "class Animal:\n",
        "  def eat(self):\n",
        "    print(\"eating\")\n",
        "  def sleep(self):\n",
        "    print(\"sleeping\")\n",
        "\n",
        "class Cat(Animal):\n",
        "  def sleep(self):\n",
        "    print(\"sleeping is like a furball\")\n",
        "  def sound(self):\n",
        "    print(\"mewing\")\n",
        "\n",
        "class Dog(Animal):\n",
        "  def sound(self):\n",
        "    print(\"barking\")\n",
        "\n",
        "cat=Cat()\n",
        "dog=Dog()\n",
        "cat.sleep()\n",
        "cat.eat()\n",
        "cat.sound()\n",
        "dog.sleep()\n",
        "dog.eat()\n",
        "dog.sound()"
      ],
      "metadata": {
        "colab": {
          "base_uri": "https://localhost:8080/"
        },
        "id": "Ps8z6Gp4a-4O",
        "outputId": "850dabc7-3ec2-49c6-b863-20f5910141f5"
      },
      "execution_count": null,
      "outputs": [
        {
          "output_type": "stream",
          "name": "stdout",
          "text": [
            "sleeping is like a furball\n",
            "eating\n",
            "mewing\n",
            "sleeping\n",
            "eating\n",
            "barking\n"
          ]
        }
      ]
    },
    {
      "cell_type": "code",
      "source": [
        "#Encapsulation and types of variables within a class\n",
        "class Demo:\n",
        "  def __init__(self):\n",
        "    self.public=\"I am public\"\n",
        "    self._protected=\"I am protected\"\n",
        "    self.__private=\"I am private\"\n",
        "\n",
        "obj=Demo()\n",
        "print(obj.public)\n",
        "print(obj._protected)\n",
        "print(obj._Demo__private)"
      ],
      "metadata": {
        "colab": {
          "base_uri": "https://localhost:8080/"
        },
        "id": "7_HsBuIPeHcT",
        "outputId": "432978b3-e643-4959-b661-75e6a21014e5"
      },
      "execution_count": null,
      "outputs": [
        {
          "output_type": "stream",
          "name": "stdout",
          "text": [
            "I am public\n",
            "I am protected\n",
            "I am private\n"
          ]
        }
      ]
    },
    {
      "cell_type": "code",
      "source": [],
      "metadata": {
        "id": "n5bTiAv6e5Ge"
      },
      "execution_count": null,
      "outputs": []
    }
  ]
}